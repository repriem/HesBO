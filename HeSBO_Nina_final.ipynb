{
 "cells": [
  {
   "cell_type": "markdown",
   "metadata": {},
   "source": [
    "# This tutorial describes how to use A Framework for Bayesian Optimization in Embedded Subspaces, which is implemented in python.\n",
    "\n",
    "Nina MOELLO ONERA/DTIS/M2CI - May 2020"
   ]
  },
  {
   "cell_type": "markdown",
   "metadata": {},
   "source": [
    "<p class=\"alert alert-success\" style=\"padding:1em\">\n",
    "To use this framework, please follow this link : https://github.com/aminnayebi/HesBO. \n",
    "</p>\n",
    "\n",
    "The reference paper is available \n",
    "here http://proceedings.mlr.press/v97/nayebi19a/nayebi19a.pdf (HeSBO)\n",
    "https://ml.informatik.uni-freiburg.de/papers/16-JAIR-REMBO.pdf (REMBO)"
   ]
  },
  {
   "cell_type": "raw",
   "metadata": {},
   "source": [
    "@inproceedings{HeSBO19,\n",
    "  author    = {Alex Munteanu and\n",
    "               Amin Nayebi and\n",
    "\t\t\t   Matthias Poloczek},\n",
    "  title     = {A Framework for Bayesian Optimization in Embedded Subspaces},\n",
    "  booktitle = {Proceedings of the 36th International Conference on Machine Learning, {(ICML)}},\n",
    "  year      = {2019},\n",
    "  note={Accepted for publication. The code is available at https://github.com/aminnayebi/HesBO.}\n",
    "}"
   ]
  },
  {
   "cell_type": "markdown",
   "metadata": {},
   "source": [
    "This repository provides Python implementations of several algorithms that extend BO to problems with high input dimensions:\n",
    "\n",
    "The HeSBO algorithm proposed by Munteanu, Nayebi, and Poloczek (ICML '19) combined with\n",
    "\n",
    "- The Knowledge Gradient (KG) algorithm of Cornell-MOE (Wu & Frazier NIPS'16; Wu, Poloczek, Wilson, and Frazier NIPS'17)\n",
    "\n",
    "- The BLOSSOM algorithm of McLeod, Osborne, and Roberts (ICML '18)\n",
    "\n",
    "- Expected improvement, e.g., see Jones, Schonlau, and Welch (JGO '98)\n",
    "\n",
    "The REMBO method using\n",
    "\n",
    "- the $K_X$ and $K_y$ kernels of Wang et al. (JMLR '18) and\n",
    "\n",
    "- the $K_{\\psi}$ kernel of Binois, Ginsbourger and Roustant (LION '15).\n",
    "\n",
    "Note that HeSBO and REMBO are maximization algorithms, so please make sure you reformulate potential minimization problems.\n",
    "\n",
    "## Installing the requirements\n",
    "\n",
    "The codes are written in python 3.6, so it is recommended to use this version of python to run the scripts. To install the requirements one can simply use this line:"
   ]
  },
  {
   "cell_type": "raw",
   "metadata": {},
   "source": [
    "pip3 install -r requirements.txt"
   ]
  },
  {
   "cell_type": "markdown",
   "metadata": {},
   "source": [
    "Also, some test functions presented here depend on the smt package (https://github.com/SMTorg/smt) and the segolight package (on the ONERA SVN). "
   ]
  },
  {
   "cell_type": "markdown",
   "metadata": {},
   "source": [
    "## Set up an optimization problem class\n",
    "\n",
    "The functions.py folder contains the optimization problem classes, the functions are then written and defined there. Calling the function is done in the 'Runmain' (in count_sketch.py for HeSBO or REMBO.py for REMBO), parameter 'func_type'."
   ]
  },
  {
   "cell_type": "code",
   "execution_count": 1,
   "metadata": {},
   "outputs": [],
   "source": [
    "#from function.py\n",
    "import math\n",
    "import numpy as np\n",
    "# import matlab.engine\n",
    "# import torch\n",
    "# from BOCK_benchmarks.mnist_weight import mnist_weight\n",
    "# All functions are defined in such a way that have global maximums,\n",
    "# if a function originally has a minimum, the final objective value is multiplied by -1\n",
    "\n",
    "class TestFunction:\n",
    "    def evaluate(self,x):\n",
    "        pass"
   ]
  },
  {
   "cell_type": "markdown",
   "metadata": {},
   "source": [
    "### From analytical expression"
   ]
  },
  {
   "cell_type": "code",
   "execution_count": 2,
   "metadata": {},
   "outputs": [],
   "source": [
    "class Rosenbrock(TestFunction):\n",
    "    def __init__(self, act_var, noise_var=0):\n",
    "        self.range=np.array([[-2,2],\n",
    "                             [-2,2]])\n",
    "        self.act_var=act_var\n",
    "        self.var = noise_var\n",
    "\n",
    "    def scale_domain(self,x):\n",
    "        # Scaling the domain\n",
    "        x_copy = np.copy(x)\n",
    "        if len(x_copy.shape) == 1:\n",
    "            x_copy = x_copy.reshape((1, x_copy.shape[0]))\n",
    "        for i in range(len(self.range)):\n",
    "            x_copy[:, i] = x_copy[:, i] * (self.range[i,1] - self.range[i,0]) / 2 + (\n",
    "                    self.range[i,1] + self.range[i,0]) / 2\n",
    "        return x_copy\n",
    "\n",
    "    def evaluate_true(self,x):\n",
    "        # Calculating the output\n",
    "        scaled_x=self.scale_domain(x)\n",
    "        f = [[0]]\n",
    "        f[0] = [-(math.pow(1 - i[self.act_var[0]], 2) + 100 * math.pow(i[self.act_var[1]] - math.pow(i[self.act_var[0]], 2), 2)) for i in scaled_x]\n",
    "        f = np.transpose(f)\n",
    "        return f\n",
    "\n",
    "    def evaluate(self, x):\n",
    "        scaled_x = self.scale_domain(x)\n",
    "        n = len(scaled_x)\n",
    "        return self.evaluate_true(x) + np.random.normal(0,self.var,(n,1))"
   ]
  },
  {
   "cell_type": "markdown",
   "metadata": {},
   "source": [
    "### From segolight"
   ]
  },
  {
   "cell_type": "code",
   "execution_count": 3,
   "metadata": {},
   "outputs": [],
   "source": [
    "class Branin(TestFunction):\n",
    "    def __init__(self, act_var=None, noise_var=0, high_dim=100):\n",
    "        self.range = np.array([[-1, 1],\n",
    "                               [-1, 1]])\n",
    "        self.dim=high_dim\n",
    "\n",
    "    def evaluate_true(self,x):\n",
    "        _x = np.atleast_2d(x)\n",
    "        f = [[0]]\n",
    "        f[0] = [get_case_branin(self.dim)['f_obj'](x_i)[0] for x_i in _x]\n",
    "        f = np.transpose(f)\n",
    "        file.close()\n",
    "        return -f\n",
    "\n",
    "    def evaluate(self, x):\n",
    "        return self.evaluate_true(x)\n",
    "    \n",
    "class Rover(TestFunction):           \n",
    "    def __init__(self, act_var=None, noise_var=0, high_dim=60):\n",
    "        self.range = np.array([[-1, 1],\n",
    "                               [-1, 1]])\n",
    "        self.dim=high_dim\n",
    "\n",
    "    def evaluate_true(self,x):\n",
    "        _x = np.atleast_2d(x)\n",
    "        f = [[0]]\n",
    "        case_rov = get_case_rov()\n",
    "        f[0]= [case_rov['f_obj'](x)[0] for x_i in _x]\n",
    "        f = np.transpose(f)\n",
    "        file.close()\n",
    "        return -f\n",
    "\n",
    "    def evaluate(self, x):\n",
    "        return self.evaluate_true(x)"
   ]
  },
  {
   "cell_type": "markdown",
   "metadata": {},
   "source": [
    "## Create a HeSBO optimizer instance\n",
    "\n",
    "In count_sketch.py. It calls the functions (written in the functions.py folder) as 'func_type'."
   ]
  },
  {
   "cell_type": "code",
   "execution_count": 4,
   "metadata": {},
   "outputs": [],
   "source": [
    "import GPy\n",
    "# import matlab.engine\n",
    "import numpy as np\n",
    "from pyDOE import lhs\n",
    "import functions\n",
    "from REMBO import EI\n",
    "import timeit\n",
    "from Nina_HesBO import RunMain"
   ]
  },
  {
   "cell_type": "markdown",
   "metadata": {},
   "source": [
    "### Specifying the type of objective function"
   ]
  },
  {
   "cell_type": "code",
   "execution_count": 5,
   "metadata": {},
   "outputs": [],
   "source": [
    "def func(active_var, noise_var, high_dim):  \n",
    "    if func_type=='Branin':\n",
    "        test_func = functions.Branin(active_var, noise_var, high_dim)\n",
    "    elif func_type=='Rosenbrock':\n",
    "        test_func = functions.Rosenbrock(active_var, noise_var=noise_var)\n",
    "    elif func_type=='Rover':\n",
    "        test_func=functions.Rover(active_var, noise_var=noise_var)\n",
    "    else:\n",
    "        TypeError('The input for func_type variable is invalid, which is', func_type)\n",
    "    return test_func"
   ]
  },
  {
   "cell_type": "markdown",
   "metadata": {},
   "source": [
    "### Run the optimization process"
   ]
  },
  {
   "cell_type": "code",
   "execution_count": 6,
   "metadata": {},
   "outputs": [
    {
     "name": "stderr",
     "output_type": "stream",
     "text": [
      " D:\\rpriem\\Anaconda3\\envs\\HesBO\\lib\\site-packages\\paramz\\transformations.py:111: RuntimeWarning:overflow encountered in expm1\n"
     ]
    }
   ],
   "source": [
    "res, time, s, f_s, f_s_true, _, low_dim, high_dim, initial_n, total_itr, func_type=RunMain(\n",
    "    high_dim=20, # The dimension of high dimensional search space\n",
    "    low_dim=2, # The effective dimension of the algorithm\n",
    "    initial_n=20, # The number of initial points\n",
    "    total_itr=40, # The number of iterations of algorithm. The total number of test function evaluations is initial_n + total_itr\n",
    "    func_type='Branin', # The name of test function, defined in the function.py folder\n",
    "    s=None, # Initial points, 'None' or folder path (.npy)\n",
    "    active_var=None, # A vector with the size of greater or equal to the number of active variables of test function. The values of vector are integers less than high_dim value.\n",
    "    ARD=False, # If TRUE, kernel is isomorphic\n",
    "    variance=1, # Signal variance of the kernel\n",
    "    length_scale=None, # Length scale values of the kernel\n",
    "    box_size=None, # This variable indicates the search space [-box_size, box_size]^d\n",
    "    high_to_low=None, # A vector with D elements. each element can have a value from {0,..,d-1}\n",
    "    sign=None, # A vector with D elements. each element is either +1 or -1.\n",
    "    hyper_opt_interval=20, # The number of iterations between two consecutive hyper parameters optimizations\n",
    "    noise_var=0, # Noise variance of the test functions\n",
    ")\n",
    "    #return: a tuple of best values of each iteration, all observed points, and corresponding test function values of observed points"
   ]
  },
  {
   "cell_type": "markdown",
   "metadata": {},
   "source": [
    "### Plot the result"
   ]
  },
  {
   "cell_type": "code",
   "execution_count": 7,
   "metadata": {},
   "outputs": [
    {
     "name": "stdout",
     "output_type": "stream",
     "text": [
      "[[-32.90597793 -32.90597793 -22.4106716  -22.4106716  -22.4106716\n",
      "  -22.4106716  -22.4106716  -13.27814094 -13.27814094 -13.27814094\n",
      "  -13.27814094 -13.27814094 -13.27814094 -13.27814094 -13.27814094\n",
      "  -13.27814094 -13.27814094 -13.27814094 -12.52134732 -12.52134732\n",
      "   -9.44898916  -9.44898916  -9.44898916  -9.44898916  -9.44898916\n",
      "   -9.44898916  -9.44898916  -9.44898916  -9.42730495  -9.42730495\n",
      "   -9.42730495  -9.42730495  -9.42730495  -9.42730495  -9.42730495\n",
      "   -9.42730495  -9.42730495  -9.42730495  -9.42730495  -9.42730495\n",
      "   -9.42730495  -9.42730495  -9.42730495  -9.42730495  -9.42730495\n",
      "   -9.42730495  -9.42730495  -9.42730495  -9.42730495  -9.42730495\n",
      "   -9.42730495  -9.42730495  -9.42730495  -9.42730495  -9.42730495\n",
      "   -9.42730495  -9.42730495  -9.42730495  -9.42730495  -9.42730495]] [[0.        0.        0.        0.        0.        0.        0.\n",
      "  0.        0.        0.        0.        0.        0.        0.\n",
      "  0.        0.        0.        0.        0.        0.        0.6181749\n",
      "  0.5273897 0.509061  0.5298038 0.5177583 0.5489462 0.5250239 0.5595476\n",
      "  0.532611  0.5151593 0.5252212 0.5107183 0.5195309 0.5208746 0.5457759\n",
      "  0.5323286 0.52074   0.5352609 0.527894  0.5154382 0.6018312 0.514156\n",
      "  0.5624751 0.6211493 0.584758  0.5365818 0.5739099 0.6077299 0.5833283\n",
      "  0.6326492 0.5504746 0.6238285 0.6174347 0.5778957 0.5408167 0.6399253\n",
      "  0.5917145 0.6305969 0.5439764 0.5315472]]\n"
     ]
    },
    {
     "data": {
      "image/png": "[encoded data removed]",
      "text/plain": [
       "<Figure size 720x360 with 1 Axes>"
      ]
     },
     "metadata": {
      "needs_background": "light"
     },
     "output_type": "display_data"
    }
   ],
   "source": [
    "import matplotlib.pyplot as plt\n",
    "fig = plt.figure(figsize=(10,5) )\n",
    "print(res,time)\n",
    "plt.title('Function %s_%i' %(func_type,high_dim))\n",
    "plt.xlabel('Time')\n",
    "plt.ylabel('Result')\n",
    "plt.plot(list(range(len(res.T))),res.T,'r')\n",
    "plt.show()"
   ]
  },
  {
   "cell_type": "markdown",
   "metadata": {},
   "source": [
    "## Create a REMBO optimizer instance\n",
    "\n",
    "In REMBO.py. It calls the functions (written in the functions.py folder) as 'func_type'."
   ]
  },
  {
   "cell_type": "code",
   "execution_count": 8,
   "metadata": {},
   "outputs": [],
   "source": [
    "import GPy\n",
    "# import matlab.engine\n",
    "import numpy as np\n",
    "import math\n",
    "from pyDOE import lhs\n",
    "from scipy.stats import norm\n",
    "import functions\n",
    "import projection_matrix\n",
    "import projections\n",
    "import kernel_inputs\n",
    "import timeit\n",
    "from Nina_Rembo import RunRembo"
   ]
  },
  {
   "cell_type": "markdown",
   "metadata": {},
   "source": [
    "### Specifying the type of objective function"
   ]
  },
  {
   "cell_type": "code",
   "execution_count": 9,
   "metadata": {},
   "outputs": [],
   "source": [
    "def func(active_var, noise_var, high_dim):  \n",
    "    if func_type=='Branin':\n",
    "        test_func = functions.Branin(active_var, noise_var, high_dim)\n",
    "    elif func_type=='Rosenbrock':\n",
    "        test_func = functions.Rosenbrock(active_var, noise_var=noise_var)\n",
    "    elif func_type=='Rover':\n",
    "        test_func=functions.Rover(active_var, noise_var=noise_var)\n",
    "    else:\n",
    "        TypeError('The input for func_type variable is invalid, which is', func_type)\n",
    "    return test_func"
   ]
  },
  {
   "cell_type": "markdown",
   "metadata": {},
   "source": [
    "### Specifying the type of embedding matrix"
   ]
  },
  {
   "cell_type": "code",
   "execution_count": 10,
   "metadata": {},
   "outputs": [],
   "source": [
    "def emb(low_dim,high_dim,matrix_type):\n",
    "    if matrix_type=='simple':\n",
    "        matrix=projection_matrix.SimpleGaussian(low_dim, high_dim)\n",
    "    elif matrix_type=='normal':\n",
    "        matrix= projection_matrix.Normalized(low_dim, high_dim)\n",
    "    elif matrix_type=='orthogonal':\n",
    "        matrix = projection_matrix.Orthogonalized(low_dim, high_dim)\n",
    "    else:\n",
    "        TypeError('The input for matrix_type variable is invalid, which is', matrix_type)\n",
    "    return matrix"
   ]
  },
  {
   "cell_type": "markdown",
   "metadata": {},
   "source": [
    "### Specifying the input type of kernel"
   ]
  },
  {
   "cell_type": "code",
   "execution_count": 11,
   "metadata": {},
   "outputs": [],
   "source": [
    "def ker(kern_inp_type, A)   :\n",
    "    if kern_inp_type=='Y':\n",
    "        kern_inp = kernel_inputs.InputY(A)\n",
    "        input_dim=low_dim\n",
    "    elif kern_inp_type=='X':\n",
    "        kern_inp = kernel_inputs.InputX(A)\n",
    "        input_dim = high_dim\n",
    "    elif kern_inp_type == 'psi':\n",
    "        kern_inp = kernel_inputs.InputPsi(A)\n",
    "        input_dim = high_dim\n",
    "    else:\n",
    "        TypeError('The input for kern_inp_type variable is invalid, which is', kern_inp_type)\n",
    "    return input_dim,kern_inp"
   ]
  },
  {
   "cell_type": "markdown",
   "metadata": {},
   "source": [
    "### Run the optimization process"
   ]
  },
  {
   "cell_type": "code",
   "execution_count": 12,
   "metadata": {},
   "outputs": [],
   "source": [
    "res,time, s, f_s, fs_true, high_s,low_dim, high_dim, initial_n, total_itr, func_type =RunRembo(\n",
    "\n",
    "    low_dim=2, # the dimension of low dimensional search space\n",
    "    high_dim=20, # the dimension of high dimensional search space\n",
    "    initial_n=20, # the number of initial points\n",
    "    total_itr=40, # the number of iterations of algorithm. The total number of test function evaluations is initial_n + total_itr\n",
    "    func_type='Branin', # the name of test function, defined in the function.py folder\n",
    "    matrix_type='simple', # the type of projection matrix\n",
    "    kern_inp_type='Y', # the type of projection. Projected points are used as the input of kernel\n",
    "    A_input=None, # a projection matrix with iid gaussian elements. The size of matrix is low_dim * high_dim\n",
    "    s=None, # initial points, 'None' or folder path (.npy)\n",
    "    active_var=None, # a vector with the size of greater or equal to the number of active variables of test function. The values of vector are integers less than high_dim value.\n",
    "    hyper_opt_interval=20, # the number of iterations between two consecutive hyper parameters optimizations\n",
    "    ARD=False, # if TRUE, kernel is isomorphic\n",
    "    variance=1., # signal variance of the kernel\n",
    "    length_scale=None, # length scale values of the kernel\n",
    "    box_size=None, # this variable indicates the search space [-box_size, box_size]^d\n",
    "    noise_var=0, # noise variance of the test functions\n",
    ")   \n",
    "    \n",
    "    #return: a tuple of best values of each iteration, all observed points, and corresponding test function values of observed points"
   ]
  },
  {
   "cell_type": "markdown",
   "metadata": {},
   "source": [
    "### Plot the result"
   ]
  },
  {
   "cell_type": "code",
   "execution_count": 13,
   "metadata": {},
   "outputs": [
    {
     "name": "stdout",
     "output_type": "stream",
     "text": [
      "[[21.50254847 21.50254847 21.50254847 21.50254847 18.6181675  18.6181675\n",
      "  18.6181675  18.6181675  18.6181675  18.6181675  18.6181675  18.6181675\n",
      "  18.6181675  18.6181675  18.6181675  18.6181675  18.6181675  18.6181675\n",
      "  18.6181675  18.6181675  18.6181675  18.6181675  18.6181675  18.6181675\n",
      "  18.6181675  18.6181675  18.6181675  18.6181675  18.6181675  18.6181675\n",
      "  18.44058342 18.44058342 18.44058342 18.39971174 18.39971174 18.39971174\n",
      "  18.39971174 18.39971174 18.39971174 18.39971174 18.39971174 18.39971174\n",
      "  18.39971174 18.39971174 18.39971174 18.39971174 18.39971174 18.39971174\n",
      "  18.39971174 18.33963041 18.33963041 18.33963041 18.33963041 18.33963041\n",
      "  18.33963041 18.33963041 18.33963041 18.33963041 18.33963041 18.33963041]] [[0.        0.        0.        0.        0.        0.        0.\n",
      "  0.        0.        0.        0.        0.        0.        0.\n",
      "  0.        0.        0.        0.        0.        0.        0.5420055\n",
      "  0.507783  0.5285773 0.5226535 0.5345121 0.5422848 0.5478024 0.5338878\n",
      "  0.528194  0.5079152 0.5145398 0.528813  0.5142149 0.5198783 0.5073325\n",
      "  0.5068438 0.5153801 0.5304687 0.5441096 0.5332878 0.6169384 0.5087986\n",
      "  0.5265809 0.5212518 0.5185966 0.5276633 0.516636  0.5533162 0.6151387\n",
      "  0.6256228 0.6768561 0.6498082 0.5538715 0.5530046 0.5787279 0.6092043\n",
      "  0.6108995 0.57269   0.652572  0.6215493]]\n"
     ]
    },
    {
     "data": {
      "image/png": "[encoded data removed]",
      "text/plain": [
       "<Figure size 720x360 with 1 Axes>"
      ]
     },
     "metadata": {
      "needs_background": "light"
     },
     "output_type": "display_data"
    }
   ],
   "source": [
    "print(-res,time)\n",
    "fig = plt.figure(figsize=(10,5) )\n",
    "plt.title('Function %s_%i' %(func_type,high_dim))\n",
    "plt.xlabel('Time')\n",
    "plt.ylabel('Result')\n",
    "plt.plot(list(range(len(res.T))),res.T,'r')\n",
    "plt.show()"
   ]
  },
  {
   "cell_type": "code",
   "execution_count": null,
   "metadata": {},
   "outputs": [],
   "source": []
  }
 ],
 "metadata": {
  "kernelspec": {
   "display_name": "Python 3",
   "language": "python",
   "name": "python3"
  },
  "language_info": {
   "codemirror_mode": {
    "name": "ipython",
    "version": 3
   },
   "file_extension": ".py",
   "mimetype": "text/x-python",
   "name": "python",
   "nbconvert_exporter": "python",
   "pygments_lexer": "ipython3",
   "version": "3.7.7"
  }
 },
 "nbformat": 4,
 "nbformat_minor": 4
}
