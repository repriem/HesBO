{
 "cells": [
  {
   "cell_type": "markdown",
   "metadata": {},
   "source": [
    "# This tutorial describes how to use A Framework for Bayesian Optimization in Embedded Subspaces, which is implemented in python.\n",
    "\n",
    "Nina MOELLO ONERA/DTIS/M2CI - May 2020"
   ]
  },
  {
   "cell_type": "markdown",
   "metadata": {},
   "source": [
    "<p class=\"alert alert-success\" style=\"padding:1em\">\n",
    "To use this framework, please follow this link : https://github.com/aminnayebi/HesBO. \n",
    "</p>\n",
    "\n",
    "The reference paper is available \n",
    "here http://proceedings.mlr.press/v97/nayebi19a/nayebi19a.pdf (HeSBO)\n",
    "https://ml.informatik.uni-freiburg.de/papers/16-JAIR-REMBO.pdf (REMBO)"
   ]
  },
  {
   "cell_type": "raw",
   "metadata": {},
   "source": [
    "@inproceedings{HeSBO19,\n",
    "  author    = {Alex Munteanu and\n",
    "               Amin Nayebi and\n",
    "\t\t\t   Matthias Poloczek},\n",
    "  title     = {A Framework for Bayesian Optimization in Embedded Subspaces},\n",
    "  booktitle = {Proceedings of the 36th International Conference on Machine Learning, {(ICML)}},\n",
    "  year      = {2019},\n",
    "  note={Accepted for publication. The code is available at https://github.com/aminnayebi/HesBO.}\n",
    "}"
   ]
  },
  {
   "cell_type": "markdown",
   "metadata": {},
   "source": [
    "This repository provides Python implementations of several algorithms that extend BO to problems with high input dimensions:\n",
    "\n",
    "The HeSBO algorithm proposed by Munteanu, Nayebi, and Poloczek (ICML '19) combined with\n",
    "\n",
    "- The Knowledge Gradient (KG) algorithm of Cornell-MOE (Wu & Frazier NIPS'16; Wu, Poloczek, Wilson, and Frazier NIPS'17)\n",
    "\n",
    "- The BLOSSOM algorithm of McLeod, Osborne, and Roberts (ICML '18)\n",
    "\n",
    "- Expected improvement, e.g., see Jones, Schonlau, and Welch (JGO '98)\n",
    "\n",
    "The REMBO method using\n",
    "\n",
    "- the $K_X$ and $K_y$ kernels of Wang et al. (JMLR '18) and\n",
    "\n",
    "- the $K_{\\psi}$ kernel of Binois, Ginsbourger and Roustant (LION '15).\n",
    "\n",
    "Note that HeSBO and REMBO are maximization algorithms, so please make sure you reformulate potential minimization problems.\n",
    "\n",
    "## Installing the requirements\n",
    "\n",
    "The codes are written in python 3.6, so it is recommended to use this version of python to run the scripts. To install the requirements one can simply use this line:"
   ]
  },
  {
   "cell_type": "raw",
   "metadata": {},
   "source": [
    "pip3 install -r requirements.txt"
   ]
  },
  {
   "cell_type": "markdown",
   "metadata": {},
   "source": [
    "## Set up an optimization problem class\n",
    "\n",
    "The functions.py folder contains the optimization problem classes, the functions are then written and defined there. Calling the function is done in the 'Runmain' (in count_sketch.py for HeSBO or REMBO.py for REMBO), parameter 'func_type'."
   ]
  },
  {
   "cell_type": "code",
   "execution_count": 1,
   "metadata": {},
   "outputs": [],
   "source": [
    "#from function.py\n",
    "import math\n",
    "import numpy as np\n",
    "# import matlab.engine\n",
    "# import torch\n",
    "# from BOCK_benchmarks.mnist_weight import mnist_weight\n",
    "# All functions are defined in such a way that have global maximums,\n",
    "# if a function originally has a minimum, the final objective value is multiplied by -1\n",
    "\n",
    "class TestFunction:\n",
    "    def evaluate(self,x):\n",
    "        pass"
   ]
  },
  {
   "cell_type": "markdown",
   "metadata": {},
   "source": [
    "### From analytical expression"
   ]
  },
  {
   "cell_type": "code",
   "execution_count": 2,
   "metadata": {},
   "outputs": [],
   "source": [
    "class Rosenbrock(TestFunction):\n",
    "    def __init__(self, act_var, noise_var=0):\n",
    "        self.range=np.array([[-2,2],\n",
    "                             [-2,2]])\n",
    "        self.act_var=act_var\n",
    "        self.var = noise_var\n",
    "\n",
    "    def scale_domain(self,x):\n",
    "        # Scaling the domain\n",
    "        x_copy = np.copy(x)\n",
    "        if len(x_copy.shape) == 1:\n",
    "            x_copy = x_copy.reshape((1, x_copy.shape[0]))\n",
    "        for i in range(len(self.range)):\n",
    "            x_copy[:, i] = x_copy[:, i] * (self.range[i,1] - self.range[i,0]) / 2 + (\n",
    "                    self.range[i,1] + self.range[i,0]) / 2\n",
    "        return x_copy\n",
    "\n",
    "    def evaluate_true(self,x):\n",
    "        # Calculating the output\n",
    "        scaled_x=self.scale_domain(x)\n",
    "        f = [[0]]\n",
    "        f[0] = [-(math.pow(1 - i[self.act_var[0]], 2) + 100 * math.pow(i[self.act_var[1]] - math.pow(i[self.act_var[0]], 2), 2)) for i in scaled_x]\n",
    "        f = np.transpose(f)\n",
    "        return f\n",
    "\n",
    "    def evaluate(self, x):\n",
    "        scaled_x = self.scale_domain(x)\n",
    "        n = len(scaled_x)\n",
    "        return self.evaluate_true(x) + np.random.normal(0,self.var,(n,1))"
   ]
  },
  {
   "cell_type": "markdown",
   "metadata": {},
   "source": [
    "### From segolight"
   ]
  },
  {
   "cell_type": "code",
   "execution_count": 3,
   "metadata": {},
   "outputs": [],
   "source": [
    "class Branin(TestFunction):\n",
    "    def __init__(self, act_var=None, noise_var=0, high_dim=100):\n",
    "        self.range = np.array([[-1, 1],\n",
    "                               [-1, 1]])\n",
    "        self.dim=high_dim\n",
    "\n",
    "    def evaluate_true(self,x):\n",
    "        _x = np.atleast_2d(x)\n",
    "        f = [[0]]\n",
    "        f[0] = [get_case_branin(self.dim)['f_obj'](x_i)[0] for x_i in _x]\n",
    "        f = np.transpose(f)\n",
    "        file.close()\n",
    "        return -f\n",
    "\n",
    "    def evaluate(self, x):\n",
    "        return self.evaluate_true(x)\n",
    "    \n",
    "class Rover(TestFunction):           \n",
    "    def __init__(self, act_var=None, noise_var=0, high_dim=60):\n",
    "        self.range = np.array([[-1, 1],\n",
    "                               [-1, 1]])\n",
    "        self.dim=high_dim\n",
    "\n",
    "    def evaluate_true(self,x):\n",
    "        _x = np.atleast_2d(x)\n",
    "        f = [[0]]\n",
    "        case_rov = get_case_rov()\n",
    "        f[0]= [case_rov['f_obj'](x)[0] for x_i in _x]\n",
    "        f = np.transpose(f)\n",
    "        file.close()\n",
    "        return -f\n",
    "\n",
    "    def evaluate(self, x):\n",
    "        return self.evaluate_true(x)"
   ]
  },
  {
   "cell_type": "markdown",
   "metadata": {},
   "source": [
    "## Create a HeSBO optimizer instance\n",
    "\n",
    "In count_sketch.py. It calls the functions (written in the functions.py folder) as 'func_type'."
   ]
  },
  {
   "cell_type": "code",
   "execution_count": 4,
   "metadata": {},
   "outputs": [],
   "source": [
    "import GPy\n",
    "# import matlab.engine\n",
    "import numpy as np\n",
    "from pyDOE import lhs\n",
    "import functions\n",
    "from REMBO import EI\n",
    "import timeit\n",
    "from Nina_HesBO import RunMain"
   ]
  },
  {
   "cell_type": "markdown",
   "metadata": {},
   "source": [
    "### Specifying the type of objective function"
   ]
  },
  {
   "cell_type": "code",
   "execution_count": 5,
   "metadata": {},
   "outputs": [],
   "source": [
    "def func(active_var, noise_var, high_dim):  \n",
    "    if func_type=='Branin':\n",
    "        test_func = functions.Branin(active_var, noise_var, high_dim)\n",
    "    elif func_type=='Rosenbrock':\n",
    "        test_func = functions.Rosenbrock(active_var, noise_var=noise_var)\n",
    "    elif func_type=='Rover':\n",
    "        test_func=functions.Rover(active_var, noise_var=noise_var)\n",
    "    else:\n",
    "        TypeError('The input for func_type variable is invalid, which is', func_type)\n",
    "    return test_func"
   ]
  },
  {
   "cell_type": "markdown",
   "metadata": {},
   "source": [
    "### Run the optimization process"
   ]
  },
  {
   "cell_type": "code",
   "execution_count": 6,
   "metadata": {},
   "outputs": [
    {
     "name": "stdout",
     "output_type": "stream",
     "text": [
      "[[33.27762905]\n",
      " [30.16363423]\n",
      " [30.47367334]\n",
      " [29.60470424]\n",
      " [20.65033784]\n",
      " [32.94862225]\n",
      " [28.9168189 ]\n",
      " [26.0975814 ]\n",
      " [22.38015608]\n",
      " [33.05281091]\n",
      " [33.1997766 ]\n",
      " [21.63637562]\n",
      " [35.13760774]\n",
      " [26.49095561]\n",
      " [20.47114298]\n",
      " [33.64793552]\n",
      " [24.29262738]\n",
      " [40.02515234]\n",
      " [27.89921228]\n",
      " [32.80179011]]\n",
      "[[33.27762905]\n",
      " [30.16363423]\n",
      " [30.47367334]\n",
      " [29.60470424]\n",
      " [20.65033784]\n",
      " [32.94862225]\n",
      " [28.9168189 ]\n",
      " [26.0975814 ]\n",
      " [22.38015608]\n",
      " [33.05281091]\n",
      " [33.1997766 ]\n",
      " [21.63637562]\n",
      " [35.13760774]\n",
      " [26.49095561]\n",
      " [20.47114298]\n",
      " [33.64793552]\n",
      " [24.29262738]\n",
      " [40.02515234]\n",
      " [27.89921228]\n",
      " [32.80179011]]\n",
      "[[19.35222369]]\n",
      "[[19.35222369]]\n",
      "[[19.33505365]]\n",
      "[[19.33505365]]\n",
      "[[19.30859881]]\n",
      "[[19.30859881]]\n",
      "[[19.30391775]]\n",
      "[[19.30391775]]\n",
      "[[22.68482527]]\n",
      "[[22.68482527]]\n"
     ]
    },
    {
     "name": "stderr",
     "output_type": "stream",
     "text": [
      " D:\\rpriem\\Anaconda3\\envs\\HesBO\\lib\\site-packages\\paramz\\transformations.py:111: RuntimeWarning:overflow encountered in expm1\n"
     ]
    },
    {
     "name": "stdout",
     "output_type": "stream",
     "text": [
      "[[20.61646489]]\n",
      "[[20.61646489]]\n",
      "[[33.85003241]]\n",
      "[[33.85003241]]\n",
      "[[29.29823274]]\n",
      "[[29.29823274]]\n",
      "[[27.58993774]]\n",
      "[[27.58993774]]\n",
      "[[34.08978415]]\n",
      "[[34.08978415]]\n",
      "[[19.58656882]]\n",
      "[[19.58656882]]\n",
      "[[31.64885282]]\n",
      "[[31.64885282]]\n",
      "[[32.40449476]]\n",
      "[[32.40449476]]\n",
      "[[24.50188181]]\n",
      "[[24.50188181]]\n",
      "[[23.58837807]]\n",
      "[[23.58837807]]\n",
      "[[29.99908746]]\n",
      "[[29.99908746]]\n",
      "[[21.08164755]]\n",
      "[[21.08164755]]\n",
      "[[24.91150728]]\n",
      "[[24.91150728]]\n",
      "[[31.75603089]]\n",
      "[[31.75603089]]\n",
      "[[19.31751489]]\n",
      "[[19.31751489]]\n",
      "[[20.99121573]]\n",
      "[[20.99121573]]\n",
      "[[35.11495934]]\n",
      "[[35.11495934]]\n",
      "[[25.08456812]]\n",
      "[[25.08456812]]\n",
      "[[35.98933628]]\n",
      "[[35.98933628]]\n",
      "[[24.92711946]]\n",
      "[[24.92711946]]\n",
      "[[30.08249997]]\n",
      "[[30.08249997]]\n",
      "[[41.17226894]]\n",
      "[[41.17226894]]\n",
      "[[29.85197957]]\n",
      "[[29.85197957]]\n",
      "[[24.42340571]]\n",
      "[[24.42340571]]\n",
      "[[27.44093488]]\n",
      "[[27.44093488]]\n",
      "[[27.32895739]]\n",
      "[[27.32895739]]\n",
      "[[25.52999046]]\n",
      "[[25.52999046]]\n",
      "[[27.75093103]]\n",
      "[[27.75093103]]\n",
      "[[32.36362721]]\n",
      "[[32.36362721]]\n",
      "[[27.4615412]]\n",
      "[[27.4615412]]\n",
      "[[32.69954028]]\n",
      "[[32.69954028]]\n",
      "[[24.06925663]]\n",
      "[[24.06925663]]\n",
      "[[23.84561087]]\n",
      "[[23.84561087]]\n",
      "[[19.30698346]]\n",
      "[[19.30698346]]\n",
      "[[33.92641904]]\n",
      "[[33.92641904]]\n"
     ]
    }
   ],
   "source": [
    "res, time, s, f_s, f_s_true, _, low_dim, high_dim, initial_n, total_itr, func_type=RunMain(\n",
    "    high_dim=20, # The dimension of high dimensional search space\n",
    "    low_dim=2, # The effective dimension of the algorithm\n",
    "    initial_n=20, # The number of initial points\n",
    "    total_itr=40, # The number of iterations of algorithm. The total number of test function evaluations is initial_n + total_itr\n",
    "    func_type='Branin', # The name of test function, defined in the function.py folder\n",
    "    s=None, # Initial points, 'None' or folder path (.npy)\n",
    "    active_var=None, # A vector with the size of greater or equal to the number of active variables of test function. The values of vector are integers less than high_dim value.\n",
    "    ARD=False, # If TRUE, kernel is isomorphic\n",
    "    variance=1, # Signal variance of the kernel\n",
    "    length_scale=None, # Length scale values of the kernel\n",
    "    box_size=None, # This variable indicates the search space [-box_size, box_size]^d\n",
    "    high_to_low=None, # A vector with D elements. each element can have a value from {0,..,d-1}\n",
    "    sign=None, # A vector with D elements. each element is either +1 or -1.\n",
    "    hyper_opt_interval=20, # The number of iterations between two consecutive hyper parameters optimizations\n",
    "    noise_var=0, # Noise variance of the test functions\n",
    ")\n",
    "    #return: a tuple of best values of each iteration, all observed points, and corresponding test function values of observed points"
   ]
  },
  {
   "cell_type": "markdown",
   "metadata": {},
   "source": [
    "### Plot the result"
   ]
  },
  {
   "cell_type": "code",
   "execution_count": 7,
   "metadata": {},
   "outputs": [
    {
     "name": "stdout",
     "output_type": "stream",
     "text": [
      "[[-33.27762905 -30.16363423 -30.16363423 -29.60470424 -20.65033784\n",
      "  -20.65033784 -20.65033784 -20.65033784 -20.65033784 -20.65033784\n",
      "  -20.65033784 -20.65033784 -20.65033784 -20.65033784 -20.47114298\n",
      "  -20.47114298 -20.47114298 -20.47114298 -20.47114298 -20.47114298\n",
      "  -19.35222369 -19.33505365 -19.30859881 -19.30391775 -19.30391775\n",
      "  -19.30391775 -19.30391775 -19.30391775 -19.30391775 -19.30391775\n",
      "  -19.30391775 -19.30391775 -19.30391775 -19.30391775 -19.30391775\n",
      "  -19.30391775 -19.30391775 -19.30391775 -19.30391775 -19.30391775\n",
      "  -19.30391775 -19.30391775 -19.30391775 -19.30391775 -19.30391775\n",
      "  -19.30391775 -19.30391775 -19.30391775 -19.30391775 -19.30391775\n",
      "  -19.30391775 -19.30391775 -19.30391775 -19.30391775 -19.30391775\n",
      "  -19.30391775 -19.30391775 -19.30391775 -19.30391775 -19.30391775]] [[0.        0.        0.        0.        0.        0.        0.\n",
      "  0.        0.        0.        0.        0.        0.        0.\n",
      "  0.        0.        0.        0.        0.        0.        0.5983934\n",
      "  0.5262348 0.5720964 0.5173751 0.5150545 0.6490922 0.5254131 0.4942703\n",
      "  0.5014448 0.5174269 0.4902298 0.5008022 0.5074634 0.4894659 0.5391427\n",
      "  0.620348  0.5478798 0.5855485 0.5267953 0.5248104 0.5798403 0.4901995\n",
      "  0.4843019 0.4731189 0.5035697 0.4959091 0.5335687 0.5025247 0.5225487\n",
      "  0.5081746 0.525188  0.5182663 0.4997152 0.5347391 0.524293  0.5439135\n",
      "  0.529262  0.5438796 0.5406957 0.5423178]]\n"
     ]
    },
    {
     "data": {
      "image/png": "[encoded data removed]",
      "text/plain": [
       "<Figure size 720x360 with 1 Axes>"
      ]
     },
     "metadata": {
      "needs_background": "light"
     },
     "output_type": "display_data"
    }
   ],
   "source": [
    "import matplotlib.pyplot as plt\n",
    "fig = plt.figure(figsize=(10,5) )\n",
    "print(res,time)\n",
    "plt.title('Function %s_%i' %(func_type,high_dim))\n",
    "plt.xlabel('Time')\n",
    "plt.ylabel('Result')\n",
    "plt.plot(list(range(len(res.T))),res.T,'r')\n",
    "plt.show()"
   ]
  },
  {
   "cell_type": "markdown",
   "metadata": {},
   "source": [
    "## Create a REMBO optimizer instance\n",
    "\n",
    "In REMBO.py. It calls the functions (written in the functions.py folder) as 'func_type'."
   ]
  },
  {
   "cell_type": "code",
   "execution_count": 8,
   "metadata": {},
   "outputs": [],
   "source": [
    "import GPy\n",
    "# import matlab.engine\n",
    "import numpy as np\n",
    "import math\n",
    "from pyDOE import lhs\n",
    "from scipy.stats import norm\n",
    "import functions\n",
    "import projection_matrix\n",
    "import projections\n",
    "import kernel_inputs\n",
    "import timeit\n",
    "from Nina_Rembo import RunRembo"
   ]
  },
  {
   "cell_type": "markdown",
   "metadata": {},
   "source": [
    "### Specifying the type of objective function"
   ]
  },
  {
   "cell_type": "code",
   "execution_count": 9,
   "metadata": {},
   "outputs": [],
   "source": [
    "def func(active_var, noise_var, high_dim):  \n",
    "    if func_type=='Branin':\n",
    "        test_func = functions.Branin(active_var, noise_var, high_dim)\n",
    "    elif func_type=='Rosenbrock':\n",
    "        test_func = functions.Rosenbrock(active_var, noise_var=noise_var)\n",
    "    elif func_type=='Rover':\n",
    "        test_func=functions.Rover(active_var, noise_var=noise_var)\n",
    "    else:\n",
    "        TypeError('The input for func_type variable is invalid, which is', func_type)\n",
    "    return test_func"
   ]
  },
  {
   "cell_type": "markdown",
   "metadata": {},
   "source": [
    "### Specifying the type of embedding matrix"
   ]
  },
  {
   "cell_type": "code",
   "execution_count": 10,
   "metadata": {},
   "outputs": [],
   "source": [
    "def emb(low_dim,high_dim,matrix_type):\n",
    "    if matrix_type=='simple':\n",
    "        matrix=projection_matrix.SimpleGaussian(low_dim, high_dim)\n",
    "    elif matrix_type=='normal':\n",
    "        matrix= projection_matrix.Normalized(low_dim, high_dim)\n",
    "    elif matrix_type=='orthogonal':\n",
    "        matrix = projection_matrix.Orthogonalized(low_dim, high_dim)\n",
    "    else:\n",
    "        TypeError('The input for matrix_type variable is invalid, which is', matrix_type)\n",
    "    return matrix"
   ]
  },
  {
   "cell_type": "markdown",
   "metadata": {},
   "source": [
    "### Specifying the input type of kernel"
   ]
  },
  {
   "cell_type": "code",
   "execution_count": 11,
   "metadata": {},
   "outputs": [],
   "source": [
    "def ker(kern_inp_type, A)   :\n",
    "    if kern_inp_type=='Y':\n",
    "        kern_inp = kernel_inputs.InputY(A)\n",
    "        input_dim=low_dim\n",
    "    elif kern_inp_type=='X':\n",
    "        kern_inp = kernel_inputs.InputX(A)\n",
    "        input_dim = high_dim\n",
    "    elif kern_inp_type == 'psi':\n",
    "        kern_inp = kernel_inputs.InputPsi(A)\n",
    "        input_dim = high_dim\n",
    "    else:\n",
    "        TypeError('The input for kern_inp_type variable is invalid, which is', kern_inp_type)\n",
    "    return input_dim,kern_inp"
   ]
  },
  {
   "cell_type": "markdown",
   "metadata": {},
   "source": [
    "### Run the optimization process"
   ]
  },
  {
   "cell_type": "code",
   "execution_count": 13,
   "metadata": {},
   "outputs": [
    {
     "name": "stdout",
     "output_type": "stream",
     "text": [
      "[[25.25993047]\n",
      " [24.94514294]\n",
      " [30.70514017]\n",
      " [41.57710062]\n",
      " [25.98692059]\n",
      " [27.04528556]\n",
      " [27.82041811]\n",
      " [31.67093492]\n",
      " [27.42949926]\n",
      " [27.86913064]\n",
      " [24.57264665]\n",
      " [25.19273798]\n",
      " [25.67041469]\n",
      " [37.9763231 ]\n",
      " [25.02490272]\n",
      " [27.60714871]\n",
      " [35.1055885 ]\n",
      " [25.11086885]\n",
      " [38.69032479]\n",
      " [24.7135537 ]]\n",
      "[[25.25993047]\n",
      " [24.94514294]\n",
      " [30.70514017]\n",
      " [41.57710062]\n",
      " [25.98692059]\n",
      " [27.04528556]\n",
      " [27.82041811]\n",
      " [31.67093492]\n",
      " [27.42949926]\n",
      " [27.86913064]\n",
      " [24.57264665]\n",
      " [25.19273798]\n",
      " [25.67041469]\n",
      " [37.9763231 ]\n",
      " [25.02490272]\n",
      " [27.60714871]\n",
      " [35.1055885 ]\n",
      " [25.11086885]\n",
      " [38.69032479]\n",
      " [24.7135537 ]]\n",
      "[[24.28435436]]\n",
      "[[24.28435436]]\n",
      "[[26.52731179]]\n",
      "[[26.52731179]]\n",
      "[[27.96125907]]\n",
      "[[27.96125907]]\n",
      "[[24.51808895]]\n",
      "[[24.51808895]]\n",
      "[[24.33755701]]\n",
      "[[24.33755701]]\n",
      "[[24.60438647]]\n",
      "[[24.60438647]]\n",
      "[[24.24295616]]\n",
      "[[24.24295616]]\n",
      "[[25.71705082]]\n",
      "[[25.71705082]]\n",
      "[[28.2818149]]\n",
      "[[28.2818149]]\n",
      "[[27.02839231]]\n",
      "[[27.02839231]]\n",
      "[[24.99929336]]\n",
      "[[24.99929336]]\n",
      "[[27.15073387]]\n",
      "[[27.15073387]]\n",
      "[[24.25361229]]\n",
      "[[24.25361229]]\n",
      "[[24.67886017]]\n",
      "[[24.67886017]]\n",
      "[[26.46076116]]\n",
      "[[26.46076116]]\n",
      "[[24.68025423]]\n",
      "[[24.68025423]]\n",
      "[[24.51737225]]\n",
      "[[24.51737225]]\n",
      "[[26.44470424]]\n",
      "[[26.44470424]]\n",
      "[[31.3076868]]\n",
      "[[31.3076868]]\n",
      "[[24.76249007]]\n",
      "[[24.76249007]]\n",
      "[[31.01465759]]\n",
      "[[31.01465759]]\n",
      "[[25.19590349]]\n",
      "[[25.19590349]]\n",
      "[[25.08355549]]\n",
      "[[25.08355549]]\n",
      "[[24.23981107]]\n",
      "[[24.23981107]]\n",
      "[[26.82136941]]\n",
      "[[26.82136941]]\n",
      "[[25.10036795]]\n",
      "[[25.10036795]]\n",
      "[[26.15350532]]\n",
      "[[26.15350532]]\n",
      "[[25.66010801]]\n",
      "[[25.66010801]]\n",
      "[[24.85065927]]\n",
      "[[24.85065927]]\n",
      "[[25.09851063]]\n",
      "[[25.09851063]]\n",
      "[[26.7452164]]\n",
      "[[26.7452164]]\n",
      "[[26.11891637]]\n",
      "[[26.11891637]]\n",
      "[[25.45280196]]\n",
      "[[25.45280196]]\n",
      "[[25.35263523]]\n",
      "[[25.35263523]]\n",
      "[[27.84659354]]\n",
      "[[27.84659354]]\n",
      "[[25.01780623]]\n",
      "[[25.01780623]]\n",
      "[[27.42540254]]\n",
      "[[27.42540254]]\n",
      "[[25.18334928]]\n",
      "[[25.18334928]]\n",
      "[[25.77448746]]\n",
      "[[25.77448746]]\n",
      "[[29.15701526]]\n",
      "[[29.15701526]]\n"
     ]
    }
   ],
   "source": [
    "res,time, s, f_s, fs_true, high_s,low_dim, high_dim, initial_n, total_itr, func_type =RunRembo(\n",
    "\n",
    "    low_dim=2, # the dimension of low dimensional search space\n",
    "    high_dim=20, # the dimension of high dimensional search space\n",
    "    initial_n=20, # the number of initial points\n",
    "    total_itr=40, # the number of iterations of algorithm. The total number of test function evaluations is initial_n + total_itr\n",
    "    func_type='Branin', # the name of test function, defined in the function.py folder\n",
    "    matrix_type='simple', # the type of projection matrix\n",
    "    kern_inp_type='Y', # the type of projection. Projected points are used as the input of kernel\n",
    "    A_input=None, # a projection matrix with iid gaussian elements. The size of matrix is low_dim * high_dim\n",
    "    s=None, # initial points, 'None' or folder path (.npy)\n",
    "    active_var=None, # a vector with the size of greater or equal to the number of active variables of test function. The values of vector are integers less than high_dim value.\n",
    "    hyper_opt_interval=20, # the number of iterations between two consecutive hyper parameters optimizations\n",
    "    ARD=False, # if TRUE, kernel is isomorphic\n",
    "    variance=1., # signal variance of the kernel\n",
    "    length_scale=None, # length scale values of the kernel\n",
    "    box_size=None, # this variable indicates the search space [-box_size, box_size]^d\n",
    "    noise_var=0, # noise variance of the test functions\n",
    ")   \n",
    "    \n",
    "    #return: a tuple of best values of each iteration, all observed points, and corresponding test function values of observed points"
   ]
  },
  {
   "cell_type": "markdown",
   "metadata": {},
   "source": [
    "### Plot the result"
   ]
  },
  {
   "cell_type": "code",
   "execution_count": 16,
   "metadata": {},
   "outputs": [
    {
     "name": "stdout",
     "output_type": "stream",
     "text": [
      "[[25.25993047 24.94514294 24.94514294 24.94514294 24.94514294 24.94514294\n",
      "  24.94514294 24.94514294 24.94514294 24.94514294 24.57264665 24.57264665\n",
      "  24.57264665 24.57264665 24.57264665 24.57264665 24.57264665 24.57264665\n",
      "  24.57264665 24.57264665 24.28435436 24.28435436 24.28435436 24.28435436\n",
      "  24.28435436 24.28435436 24.24295616 24.24295616 24.24295616 24.24295616\n",
      "  24.24295616 24.24295616 24.24295616 24.24295616 24.24295616 24.24295616\n",
      "  24.24295616 24.24295616 24.24295616 24.24295616 24.24295616 24.24295616\n",
      "  24.24295616 24.23981107 24.23981107 24.23981107 24.23981107 24.23981107\n",
      "  24.23981107 24.23981107 24.23981107 24.23981107 24.23981107 24.23981107\n",
      "  24.23981107 24.23981107 24.23981107 24.23981107 24.23981107 24.23981107]] [[0.        0.        0.        0.        0.        0.        0.\n",
      "  0.        0.        0.        0.        0.        0.        0.\n",
      "  0.        0.        0.        0.        0.        0.        0.5739749\n",
      "  0.511304  0.5363716 0.5312767 0.5227906 0.5365431 0.4866578 0.5084501\n",
      "  0.5037862 0.511674  0.5379187 0.5212457 0.4960623 0.502752  0.5115243\n",
      "  0.5147839 0.5494039 0.5346213 0.5260649 0.5272985 0.6235253 0.5146786\n",
      "  0.5366958 0.5524229 0.5471505 0.6107243 0.5510758 0.5098941 0.5919232\n",
      "  0.4894432 0.5598743 0.5025105 0.5201235 0.5038955 0.5184108 0.5195164\n",
      "  0.5130711 0.4897221 0.5699023 0.5609456]]\n"
     ]
    },
    {
     "data": {
      "image/png": "[encoded data removed]",
      "text/plain": [
       "<Figure size 720x360 with 1 Axes>"
      ]
     },
     "metadata": {
      "needs_background": "light"
     },
     "output_type": "display_data"
    }
   ],
   "source": [
    "print(-res,time)\n",
    "fig = plt.figure(figsize=(10,5) )\n",
    "plt.title('Function %s_%i' %(func_type,high_dim))\n",
    "plt.xlabel('Time')\n",
    "plt.ylabel('Result')\n",
    "plt.plot(list(range(len(res.T))),res.T,'r')\n",
    "plt.show()"
   ]
  },
  {
   "cell_type": "code",
   "execution_count": null,
   "metadata": {},
   "outputs": [],
   "source": []
  }
 ],
 "metadata": {
  "kernelspec": {
   "display_name": "Python 3",
   "language": "python",
   "name": "python3"
  },
  "language_info": {
   "codemirror_mode": {
    "name": "ipython",
    "version": 3
   },
   "file_extension": ".py",
   "mimetype": "text/x-python",
   "name": "python",
   "nbconvert_exporter": "python",
   "pygments_lexer": "ipython3",
   "version": "3.8.2"
  }
 },
 "nbformat": 4,
 "nbformat_minor": 4
}
